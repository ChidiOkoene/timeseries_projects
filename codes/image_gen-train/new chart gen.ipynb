{
 "cells": [
  {
   "cell_type": "code",
   "execution_count": null,
   "id": "ecb1707f",
   "metadata": {},
   "outputs": [],
   "source": []
  },
  {
   "cell_type": "code",
   "execution_count": null,
   "id": "81d06268",
   "metadata": {},
   "outputs": [],
   "source": [
    "import pandas as pd\n",
    "import numpy as np\n",
    "import matplotlib.pyplot as plt\n",
    "import os\n",
    "\n",
    "# Load your CSV data\n",
    "df = pd.read_csv(r'C:\\Users\\chidi\\Documents\\timeseries_projects\\codes\\xrp_ohlcv_indicators.csv')\n",
    "df['Date'] = pd.to_datetime(df['open_time'])\n",
    "df = df.set_index('open_time')\n",
    "\n",
    "# Define parameters\n",
    "window_size = 30  # Number of candles per chart\n",
    "image_size = (224, 224)  # Resize for model input\n",
    "save_dir = 'chart_images'\n",
    "\n",
    "# Create directories\n",
    "os.makedirs(f'{save_dir}/up', exist_ok=True)\n",
    "os.makedirs(f'{save_dir}/down', exist_ok=True)\n",
    "\n",
    "def generate_chart_images(df, window_size, image_size, save_dir):\n",
    "    for i in range(window_size, len(df)-1):\n",
    "        window = df.iloc[i-window_size:i]\n",
    "        next_candle = df.iloc[i+1]\n",
    "        direction = 'up' if next_candle['close'] > window.iloc[-1]['close'] else 'down'\n",
    "        \n",
    "        # Plot candlesticks\n",
    "        plt.figure(figsize=(5, 5))\n",
    "        plt.axis('off')\n",
    "        plt.plot(window['close'], color='black', linewidth=1)\n",
    "        plt.fill_between(window.index, window['low'], window['high'], color='gray', alpha=0.3)\n",
    "        \n",
    "        # Save as image\n",
    "        filename = f'{save_dir}/{direction}/chart_{i}.png'\n",
    "        plt.savefig(filename, bbox_inches='tight', pad_inches=0)\n",
    "        plt.close()\n",
    "\n",
    "generate_chart_images(df, window_size, image_size, save_dir)"
   ]
  }
 ],
 "metadata": {
  "kernelspec": {
   "display_name": "gpu_env",
   "language": "python",
   "name": "python3"
  },
  "language_info": {
   "codemirror_mode": {
    "name": "ipython",
    "version": 3
   },
   "file_extension": ".py",
   "mimetype": "text/x-python",
   "name": "python",
   "nbconvert_exporter": "python",
   "pygments_lexer": "ipython3",
   "version": "3.9.21"
  }
 },
 "nbformat": 4,
 "nbformat_minor": 5
}
